{
 "metadata": {
  "css": [
   ""
  ],
  "name": "lecture_11_pandas_reshaping.ipynb"
 },
 "nbformat": 3,
 "nbformat_minor": 0,
 "worksheets": [
  {
   "cells": [
    {
     "cell_type": "markdown",
     "metadata": {},
     "source": [
      "#Reshaping\n",
      "\n",
      "concat, merge, pivot,  melt, stack, unstack"
     ]
    },
    {
     "cell_type": "code",
     "collapsed": false,
     "input": [
      "import pandas as pd"
     ],
     "language": "python",
     "metadata": {},
     "outputs": [],
     "prompt_number": 1
    },
    {
     "cell_type": "markdown",
     "metadata": {},
     "source": [
      "##Outline\n",
      "\n",
      "Adding Data\n",
      "\n",
      "- **scalars and lists**\n",
      "- **concat**: Stacks DataFrames to create more rows or aligns to create columns\n",
      "- **merge**: Joins rows based on one or more keys.  Think SQL join.\n",
      "\n",
      "Reshaping\n",
      "\n",
      "- **pivot_table**: \"wide\" aggregate format\n",
      "- **pivot**: the \"wide\" format\n",
      "- **melt**: the \"stacked\" fromat\n",
      "- Hierarchical index (multi-index)\n",
      "    - **unstack()**\n",
      "    - **stack()**"
     ]
    },
    {
     "cell_type": "markdown",
     "metadata": {},
     "source": [
      "##Adding data with Concat"
     ]
    },
    {
     "cell_type": "code",
     "collapsed": false,
     "input": [
      "names = ['John', 'Matt', 'Sara', 'Jim', 'Ashley']\n",
      "ids = [ 23, 34, 83, 86, 12]\n",
      "balance = [10.2, 84.3, 72.9, 27.1, 223.1]\n",
      "\n",
      "users = pd.DataFrame({'names':names, 'bal': balance}, index=ids)\n",
      "print users"
     ],
     "language": "python",
     "metadata": {},
     "outputs": [
      {
       "output_type": "stream",
       "stream": "stdout",
       "text": [
        "      bal   names\n",
        "23   10.2    John\n",
        "34   84.3    Matt\n",
        "83   72.9    Sara\n",
        "86   27.1     Jim\n",
        "12  223.1  Ashley\n"
       ]
      }
     ],
     "prompt_number": 2
    },
    {
     "cell_type": "markdown",
     "metadata": {},
     "source": [
      "### Scalar values and lists\n",
      "\n",
      "Broadcast style"
     ]
    },
    {
     "cell_type": "code",
     "collapsed": false,
     "input": [
      "users['last'] = 'smith'\n",
      "print users"
     ],
     "language": "python",
     "metadata": {},
     "outputs": [
      {
       "output_type": "stream",
       "stream": "stdout",
       "text": [
        "      bal   names   last\n",
        "23   10.2    John  smith\n",
        "34   84.3    Matt  smith\n",
        "83   72.9    Sara  smith\n",
        "86   27.1     Jim  smith\n",
        "12  223.1  Ashley  smith\n"
       ]
      }
     ],
     "prompt_number": 3
    },
    {
     "cell_type": "markdown",
     "metadata": {},
     "source": [
      "With `list` or `np.arrray` of same length"
     ]
    },
    {
     "cell_type": "code",
     "collapsed": false,
     "input": [
      "users['random'] = np.random.rand(len(users))\n",
      "print users"
     ],
     "language": "python",
     "metadata": {},
     "outputs": [
      {
       "output_type": "stream",
       "stream": "stdout",
       "text": [
        "      bal   names   last    random\n",
        "23   10.2    John  smith  0.978995\n",
        "34   84.3    Matt  smith  0.499231\n",
        "83   72.9    Sara  smith  0.740661\n",
        "86   27.1     Jim  smith  0.068024\n",
        "12  223.1  Ashley  smith  0.573327\n"
       ]
      }
     ],
     "prompt_number": 4
    },
    {
     "cell_type": "markdown",
     "metadata": {},
     "source": [
      "###Adding `DataFrames` with `concat`"
     ]
    },
    {
     "cell_type": "code",
     "collapsed": false,
     "input": [
      "n_users = users.copy()\n",
      "df_list = [n_users, users]\n",
      "all_users = pd.concat(df_list)\n",
      "print all_users"
     ],
     "language": "python",
     "metadata": {},
     "outputs": [
      {
       "output_type": "stream",
       "stream": "stdout",
       "text": [
        "      bal   names   last    random\n",
        "23   10.2    John  smith  0.978995\n",
        "34   84.3    Matt  smith  0.499231\n",
        "83   72.9    Sara  smith  0.740661\n",
        "86   27.1     Jim  smith  0.068024\n",
        "12  223.1  Ashley  smith  0.573327\n",
        "23   10.2    John  smith  0.978995\n",
        "34   84.3    Matt  smith  0.499231\n",
        "83   72.9    Sara  smith  0.740661\n",
        "86   27.1     Jim  smith  0.068024\n",
        "12  223.1  Ashley  smith  0.573327\n"
       ]
      }
     ],
     "prompt_number": 5
    },
    {
     "cell_type": "markdown",
     "metadata": {},
     "source": [
      "`unique()` returns a list of unique index values"
     ]
    },
    {
     "cell_type": "code",
     "collapsed": false,
     "input": [
      "all_users['names'].unique()"
     ],
     "language": "python",
     "metadata": {},
     "outputs": [
      {
       "output_type": "pyout",
       "prompt_number": 12,
       "text": [
        "array(['John', 'Matt', 'Sara', 'Jim', 'Ashley'], dtype=object)"
       ]
      }
     ],
     "prompt_number": 12
    },
    {
     "cell_type": "markdown",
     "metadata": {},
     "source": [
      "`is_unique` is a boolean member of the `index` object"
     ]
    },
    {
     "cell_type": "code",
     "collapsed": false,
     "input": [
      "all_users.index.is_unique"
     ],
     "language": "python",
     "metadata": {},
     "outputs": [
      {
       "output_type": "pyout",
       "prompt_number": 13,
       "text": [
        "False"
       ]
      }
     ],
     "prompt_number": 13
    },
    {
     "cell_type": "code",
     "collapsed": false,
     "input": [
      "print all_users.reset_index()"
     ],
     "language": "python",
     "metadata": {},
     "outputs": [
      {
       "output_type": "stream",
       "stream": "stdout",
       "text": [
        "   index    bal   names   last    random\n",
        "0     23   10.2    John  smith  0.978995\n",
        "1     34   84.3    Matt  smith  0.499231\n",
        "2     83   72.9    Sara  smith  0.740661\n",
        "3     86   27.1     Jim  smith  0.068024\n",
        "4     12  223.1  Ashley  smith  0.573327\n",
        "5     23   10.2    John  smith  0.978995\n",
        "6     34   84.3    Matt  smith  0.499231\n",
        "7     83   72.9    Sara  smith  0.740661\n",
        "8     86   27.1     Jim  smith  0.068024\n",
        "9     12  223.1  Ashley  smith  0.573327\n"
       ]
      }
     ],
     "prompt_number": 14
    },
    {
     "cell_type": "code",
     "collapsed": false,
     "input": [
      "all_users.index = range(len(all_users))\n",
      "print all_users"
     ],
     "language": "python",
     "metadata": {},
     "outputs": [
      {
       "output_type": "stream",
       "stream": "stdout",
       "text": [
        "     bal   names   last    random\n",
        "0   10.2    John  smith  0.978995\n",
        "1   84.3    Matt  smith  0.499231\n",
        "2   72.9    Sara  smith  0.740661\n",
        "3   27.1     Jim  smith  0.068024\n",
        "4  223.1  Ashley  smith  0.573327\n",
        "5   10.2    John  smith  0.978995\n",
        "6   84.3    Matt  smith  0.499231\n",
        "7   72.9    Sara  smith  0.740661\n",
        "8   27.1     Jim  smith  0.068024\n",
        "9  223.1  Ashley  smith  0.573327\n"
       ]
      }
     ],
     "prompt_number": 15
    },
    {
     "cell_type": "code",
     "collapsed": false,
     "input": [
      "all_users = pd.concat(df_list, ignore_index=True)\n",
      "print all_users"
     ],
     "language": "python",
     "metadata": {},
     "outputs": [
      {
       "output_type": "stream",
       "stream": "stdout",
       "text": [
        "     bal   names   last    random\n",
        "0   10.2    John  smith  0.074744\n",
        "1   84.3    Matt  smith  0.342481\n",
        "2   72.9    Sara  smith  0.695304\n",
        "3   27.1     Jim  smith  0.968802\n",
        "4  223.1  Ashley  smith  0.571061\n",
        "5   10.2    John  smith  0.074744\n",
        "6   84.3    Matt  smith  0.342481\n",
        "7   72.9    Sara  smith  0.695304\n",
        "8   27.1     Jim  smith  0.968802\n",
        "9  223.1  Ashley  smith  0.571061\n"
       ]
      }
     ],
     "prompt_number": 41
    },
    {
     "cell_type": "markdown",
     "metadata": {},
     "source": [
      "Takes care of alignment when concatenating columns"
     ]
    },
    {
     "cell_type": "code",
     "collapsed": false,
     "input": [
      "all_users = pd.concat(df_list, axis=1)\n",
      "print all_users"
     ],
     "language": "python",
     "metadata": {},
     "outputs": [
      {
       "output_type": "stream",
       "stream": "stdout",
       "text": [
        "      bal   names   last    random    bal   names   last    random\n",
        "23   10.2    John  smith  0.074744   10.2    John  smith  0.074744\n",
        "34   84.3    Matt  smith  0.342481   84.3    Matt  smith  0.342481\n",
        "83   72.9    Sara  smith  0.695304   72.9    Sara  smith  0.695304\n",
        "86   27.1     Jim  smith  0.968802   27.1     Jim  smith  0.968802\n",
        "12  223.1  Ashley  smith  0.571061  223.1  Ashley  smith  0.571061\n"
       ]
      }
     ],
     "prompt_number": 42
    },
    {
     "cell_type": "markdown",
     "metadata": {},
     "source": [
      "### Application: names"
     ]
    },
    {
     "cell_type": "code",
     "collapsed": false,
     "input": [
      "import os\n",
      "filename = os.path.join('data','names','yob1880.txt')\n",
      "names = pd.read_csv(filename)\n",
      "print names.head()"
     ],
     "language": "python",
     "metadata": {},
     "outputs": [
      {
       "output_type": "stream",
       "stream": "stdout",
       "text": [
        "        Mary  F  7065\n",
        "0       Anna  F  2604\n",
        "1       Emma  F  2003\n",
        "2  Elizabeth  F  1939\n",
        "3     Minnie  F  1746\n",
        "4   Margaret  F  1578\n"
       ]
      }
     ],
     "prompt_number": 43
    },
    {
     "cell_type": "code",
     "collapsed": false,
     "input": [
      "names['year'] = 1880\n",
      "print names.head()"
     ],
     "language": "python",
     "metadata": {},
     "outputs": [
      {
       "output_type": "stream",
       "stream": "stdout",
       "text": [
        "        Mary  F  7065  year\n",
        "0       Anna  F  2604  1880\n",
        "1       Emma  F  2003  1880\n",
        "2  Elizabeth  F  1939  1880\n",
        "3     Minnie  F  1746  1880\n",
        "4   Margaret  F  1578  1880\n"
       ]
      }
     ],
     "prompt_number": 44
    },
    {
     "cell_type": "markdown",
     "metadata": {},
     "source": [
      "Let's add another DataFrame"
     ]
    },
    {
     "cell_type": "code",
     "collapsed": false,
     "input": [
      "filename = os.path.join('data','names','yob1881.txt')\n",
      "tmp = pd.read_csv(filename, names=['name','gender','births'])\n",
      "tmp['year'] = 1881\n",
      "print len(names), len(tmp)"
     ],
     "language": "python",
     "metadata": {},
     "outputs": [
      {
       "output_type": "stream",
       "stream": "stdout",
       "text": [
        "1999 1935\n"
       ]
      }
     ],
     "prompt_number": 45
    },
    {
     "cell_type": "code",
     "collapsed": false,
     "input": [
      "names = pd.concat([names, tmp], ignore_index=True)\n",
      "print len(names)"
     ],
     "language": "python",
     "metadata": {},
     "outputs": [
      {
       "output_type": "stream",
       "stream": "stdout",
       "text": [
        "3934\n"
       ]
      }
     ],
     "prompt_number": 46
    },
    {
     "cell_type": "markdown",
     "metadata": {},
     "source": [
      "Add all the names"
     ]
    },
    {
     "cell_type": "code",
     "collapsed": false,
     "input": [
      "import glob\n",
      "\n",
      "frame_array = []\n",
      "files = glob.glob(os.path.join('data','names','*.txt'))\n",
      "for file in files:\n",
      "    start_index = file.find('yob')+3\n",
      "    year = int(file[start_index:start_index+4])\n",
      "    tmp = pd.read_csv(file, names=['name','gender','births'])\n",
      "    tmp['year'] = year\n",
      "    frame_array.append(tmp)\n",
      "\n",
      "names = pd.concat(frame_array, ignore_index=True)"
     ],
     "language": "python",
     "metadata": {},
     "outputs": [],
     "prompt_number": 47
    },
    {
     "cell_type": "code",
     "collapsed": false,
     "input": [
      "print len(names)"
     ],
     "language": "python",
     "metadata": {},
     "outputs": [
      {
       "output_type": "stream",
       "stream": "stdout",
       "text": [
        "1724892\n"
       ]
      }
     ],
     "prompt_number": 48
    },
    {
     "cell_type": "markdown",
     "metadata": {},
     "source": [
      "##Merge: The Movie Dataset\n",
      "\n",
      "This is adapted from [Python for Data Analysis](http://shop.oreilly.com/product/0636920023784.do) by Wes McKinney"
     ]
    },
    {
     "cell_type": "code",
     "collapsed": false,
     "input": [
      "unames = ['user_id','gender','age','occupation','zip']\n",
      "users = pd.read_table(os.path.join('data','movies','users.dat'), sep='::', header=None, names=unames)\n",
      "print users.head()"
     ],
     "language": "python",
     "metadata": {},
     "outputs": [
      {
       "output_type": "stream",
       "stream": "stdout",
       "text": [
        "   user_id gender  age  occupation    zip\n",
        "0        1      F    1          10  48067\n",
        "1        2      M   56          16  70072\n",
        "2        3      M   25          15  55117\n",
        "3        4      M   45           7  02460\n",
        "4        5      M   25          20  55455\n"
       ]
      }
     ],
     "prompt_number": 49
    },
    {
     "cell_type": "code",
     "collapsed": false,
     "input": [
      "rnames = ['user_id', 'movie_id', 'rating', 'timestamp']\n",
      "ratings = pd.read_table(os.path.join('data','movies','ratings.dat'), sep='::', header=None, names=rnames)\n",
      "print ratings.head()"
     ],
     "language": "python",
     "metadata": {},
     "outputs": [
      {
       "output_type": "stream",
       "stream": "stdout",
       "text": [
        "   user_id  movie_id  rating  timestamp\n",
        "0        1      1193       5  978300760\n",
        "1        1       661       3  978302109\n",
        "2        1       914       3  978301968\n",
        "3        1      3408       4  978300275\n",
        "4        1      2355       5  978824291\n"
       ]
      }
     ],
     "prompt_number": 50
    },
    {
     "cell_type": "code",
     "collapsed": false,
     "input": [
      "mnames = ['movie_id', 'title','genres']\n",
      "movies = pd.read_table(os.path.join('data','movies','movies.dat'), sep='::', header=None, names=mnames)\n",
      "print movies.head()"
     ],
     "language": "python",
     "metadata": {},
     "outputs": [
      {
       "output_type": "stream",
       "stream": "stdout",
       "text": [
        "   movie_id                               title                        genres\n",
        "0         1                    Toy Story (1995)   Animation|Children's|Comedy\n",
        "1         2                      Jumanji (1995)  Adventure|Children's|Fantasy\n",
        "2         3             Grumpier Old Men (1995)                Comedy|Romance\n",
        "3         4            Waiting to Exhale (1995)                  Comedy|Drama\n",
        "4         5  Father of the Bride Part II (1995)                        Comedy\n"
       ]
      }
     ],
     "prompt_number": 51
    },
    {
     "cell_type": "code",
     "collapsed": false,
     "input": [
      "tmp = pd.merge(ratings, users, on='user_id', how='inner') # on and how are set to defaults\n",
      "data = pd.merge(tmp, movies, on='movie_id')\n",
      "print data.head()"
     ],
     "language": "python",
     "metadata": {},
     "outputs": [
      {
       "output_type": "stream",
       "stream": "stdout",
       "text": [
        "   user_id  movie_id  rating  timestamp gender  age  occupation    zip  \\\n",
        "0        1      1193       5  978300760      F    1          10  48067   \n",
        "1        2      1193       5  978298413      M   56          16  70072   \n",
        "2       12      1193       4  978220179      M   25          12  32793   \n",
        "3       15      1193       4  978199279      M   25           7  22903   \n",
        "4       17      1193       5  978158471      M   50           1  95350   \n",
        "\n",
        "                                    title genres  \n",
        "0  One Flew Over the Cuckoo's Nest (1975)  Drama  \n",
        "1  One Flew Over the Cuckoo's Nest (1975)  Drama  \n",
        "2  One Flew Over the Cuckoo's Nest (1975)  Drama  \n",
        "3  One Flew Over the Cuckoo's Nest (1975)  Drama  \n",
        "4  One Flew Over the Cuckoo's Nest (1975)  Drama  \n"
       ]
      }
     ],
     "prompt_number": 52
    },
    {
     "cell_type": "markdown",
     "metadata": {},
     "source": [
      "`help(pd.merge)` for more information on how and on"
     ]
    },
    {
     "cell_type": "markdown",
     "metadata": {},
     "source": [
      "##Reshaping"
     ]
    },
    {
     "cell_type": "markdown",
     "metadata": {},
     "source": [
      "### `pivot_table`: the \"wide\" aggregate format"
     ]
    },
    {
     "cell_type": "code",
     "collapsed": false,
     "input": [
      "print names.head()"
     ],
     "language": "python",
     "metadata": {},
     "outputs": [
      {
       "output_type": "stream",
       "stream": "stdout",
       "text": [
        "        name gender  births  year\n",
        "0       Mary      F    7065  1880\n",
        "1       Anna      F    2604  1880\n",
        "2       Emma      F    2003  1880\n",
        "3  Elizabeth      F    1939  1880\n",
        "4     Minnie      F    1746  1880\n"
       ]
      }
     ],
     "prompt_number": 53
    },
    {
     "cell_type": "markdown",
     "metadata": {},
     "source": [
      "We want the row index to be year, gender as the column headings, and the value of the table to be the sum of births.\n",
      "\n",
      "- We need the sum (or another aggregate mesure) because we are dropping the name group"
     ]
    },
    {
     "cell_type": "code",
     "collapsed": false,
     "input": [
      "births_by_gender = pd.pivot_table(names, values='births', rows='year', cols='gender', aggfunc=sum)\n",
      "print births_by_gender.head()"
     ],
     "language": "python",
     "metadata": {},
     "outputs": [
      {
       "output_type": "stream",
       "stream": "stdout",
       "text": [
        "gender       F       M\n",
        "year                  \n",
        "1880     90994  110492\n",
        "1881     91955  100747\n",
        "1882    107851  113687\n",
        "1883    112322  104631\n",
        "1884    129022  114445\n"
       ]
      }
     ],
     "prompt_number": 54
    },
    {
     "cell_type": "code",
     "collapsed": false,
     "input": [
      "births_by_gender.plot()\n",
      "plt.show()"
     ],
     "language": "python",
     "metadata": {},
     "outputs": [
      {
       "output_type": "display_data",
       "png": "[encoded data removed]",
       "text": [
        "<matplotlib.figure.Figure at 0x106663c8>"
       ]
      }
     ],
     "prompt_number": 55
    },
    {
     "cell_type": "markdown",
     "metadata": {},
     "source": [
      "### Stacked format with `melt`\n",
      "\n",
      "Cheese data from [http://media.eatwisconsincheese.com/](http://media.eatwisconsincheese.com/assets/images/pdf/WisconsinDairyData.pdf)\n",
      "\n",
      "Joke reference [http://pandas.pydata.org](http://pandas.pydata.org/pandas-docs/stable/reshaping.html)"
     ]
    },
    {
     "cell_type": "code",
     "collapsed": false,
     "input": [
      "cheese = pd.DataFrame({'type' : ['American', 'Italian','Muenster','brick','Mozzerella'],\n",
      "                    'prod' : [794538,1348636,50108,3054,898721],\n",
      "                    'percent' : [18.8, 29.5, 34.2, 26.7, 25.2],\n",
      "                    'rank' : [1,2,1,2,2]})\n",
      "cheese['product'] = 'cheese'\n",
      "print cheese.head()"
     ],
     "language": "python",
     "metadata": {},
     "outputs": [
      {
       "output_type": "stream",
       "stream": "stdout",
       "text": [
        "   percent     prod  rank        type product\n",
        "0     18.8   794538     1    American  cheese\n",
        "1     29.5  1348636     2     Italian  cheese\n",
        "2     34.2    50108     1    Muenster  cheese\n",
        "3     26.7     3054     2       brick  cheese\n",
        "4     25.2   898721     2  Mozzerella  cheese\n"
       ]
      }
     ],
     "prompt_number": 56
    },
    {
     "cell_type": "code",
     "collapsed": false,
     "input": [
      "cheese = cheese.reindex(columns=['product','type','prod','percent','rank'])\n",
      "print cheese.head()"
     ],
     "language": "python",
     "metadata": {},
     "outputs": [
      {
       "output_type": "stream",
       "stream": "stdout",
       "text": [
        "  product        type     prod  percent  rank\n",
        "0  cheese    American   794538     18.8     1\n",
        "1  cheese     Italian  1348636     29.5     2\n",
        "2  cheese    Muenster    50108     34.2     1\n",
        "3  cheese       brick     3054     26.7     2\n",
        "4  cheese  Mozzerella   898721     25.2     2\n"
       ]
      }
     ],
     "prompt_number": 57
    },
    {
     "cell_type": "code",
     "collapsed": false,
     "input": [
      "cheese_stack = pd.melt(cheese, id_vars=['product','type','rank'])\n",
      "print cheese_stack"
     ],
     "language": "python",
     "metadata": {},
     "outputs": [
      {
       "output_type": "stream",
       "stream": "stdout",
       "text": [
        "  product        type  rank variable      value\n",
        "0  cheese    American     1     prod   794538.0\n",
        "1  cheese     Italian     2     prod  1348636.0\n",
        "2  cheese    Muenster     1     prod    50108.0\n",
        "3  cheese       brick     2     prod     3054.0\n",
        "4  cheese  Mozzerella     2     prod   898721.0\n",
        "5  cheese    American     1  percent       18.8\n",
        "6  cheese     Italian     2  percent       29.5\n",
        "7  cheese    Muenster     1  percent       34.2\n",
        "8  cheese       brick     2  percent       26.7\n",
        "9  cheese  Mozzerella     2  percent       25.2\n"
       ]
      }
     ],
     "prompt_number": 58
    },
    {
     "cell_type": "code",
     "collapsed": false,
     "input": [
      "cheese_stack = pd.melt(cheese, id_vars=['product','type'])\n",
      "print cheese_stack"
     ],
     "language": "python",
     "metadata": {},
     "outputs": [
      {
       "output_type": "stream",
       "stream": "stdout",
       "text": [
        "   product        type variable      value\n",
        "0   cheese    American     prod   794538.0\n",
        "1   cheese     Italian     prod  1348636.0\n",
        "2   cheese    Muenster     prod    50108.0\n",
        "3   cheese       brick     prod     3054.0\n",
        "4   cheese  Mozzerella     prod   898721.0\n",
        "5   cheese    American  percent       18.8\n",
        "6   cheese     Italian  percent       29.5\n",
        "7   cheese    Muenster  percent       34.2\n",
        "8   cheese       brick  percent       26.7\n",
        "9   cheese  Mozzerella  percent       25.2\n",
        "10  cheese    American     rank        1.0\n",
        "11  cheese     Italian     rank        2.0\n",
        "12  cheese    Muenster     rank        1.0\n",
        "13  cheese       brick     rank        2.0\n",
        "14  cheese  Mozzerella     rank        2.0\n"
       ]
      }
     ],
     "prompt_number": 59
    },
    {
     "cell_type": "markdown",
     "metadata": {},
     "source": [
      "### `pivot` back to wide format"
     ]
    },
    {
     "cell_type": "code",
     "collapsed": false,
     "input": [
      "print cheese_stack.pivot(index='type', columns='variable', values='value')"
     ],
     "language": "python",
     "metadata": {},
     "outputs": [
      {
       "output_type": "stream",
       "stream": "stdout",
       "text": [
        "variable    percent     prod  rank\n",
        "type                              \n",
        "American       18.8   794538     1\n",
        "Italian        29.5  1348636     2\n",
        "Mozzerella     25.2   898721     2\n",
        "Muenster       34.2    50108     1\n",
        "brick          26.7     3054     2\n"
       ]
      }
     ],
     "prompt_number": 60
    },
    {
     "cell_type": "markdown",
     "metadata": {},
     "source": [
      "We lost the `product` column."
     ]
    },
    {
     "cell_type": "markdown",
     "metadata": {},
     "source": [
      "### multi-index, stack, unstack"
     ]
    },
    {
     "cell_type": "code",
     "collapsed": false,
     "input": [
      "print cheese_stack"
     ],
     "language": "python",
     "metadata": {},
     "outputs": [
      {
       "output_type": "stream",
       "stream": "stdout",
       "text": [
        "   product        type variable      value\n",
        "0   cheese    American     prod   794538.0\n",
        "1   cheese     Italian     prod  1348636.0\n",
        "2   cheese    Muenster     prod    50108.0\n",
        "3   cheese       brick     prod     3054.0\n",
        "4   cheese  Mozzerella     prod   898721.0\n",
        "5   cheese    American  percent       18.8\n",
        "6   cheese     Italian  percent       29.5\n",
        "7   cheese    Muenster  percent       34.2\n",
        "8   cheese       brick  percent       26.7\n",
        "9   cheese  Mozzerella  percent       25.2\n",
        "10  cheese    American     rank        1.0\n",
        "11  cheese     Italian     rank        2.0\n",
        "12  cheese    Muenster     rank        1.0\n",
        "13  cheese       brick     rank        2.0\n",
        "14  cheese  Mozzerella     rank        2.0\n"
       ]
      }
     ],
     "prompt_number": 61
    },
    {
     "cell_type": "code",
     "collapsed": false,
     "input": [
      "cheese = cheese.set_index(['product','type'])\n",
      "print cheese.head()"
     ],
     "language": "python",
     "metadata": {},
     "outputs": [
      {
       "output_type": "stream",
       "stream": "stdout",
       "text": [
        "                       prod  percent  rank\n",
        "product type                              \n",
        "cheese  American     794538     18.8     1\n",
        "        Italian     1348636     29.5     2\n",
        "        Muenster      50108     34.2     1\n",
        "        brick          3054     26.7     2\n",
        "        Mozzerella   898721     25.2     2\n"
       ]
      }
     ],
     "prompt_number": 62
    },
    {
     "cell_type": "code",
     "collapsed": false,
     "input": [
      "cheese_stack = cheese.stack()\n",
      "print cheese_stack.head()"
     ],
     "language": "python",
     "metadata": {},
     "outputs": [
      {
       "output_type": "stream",
       "stream": "stdout",
       "text": [
        "product  type             \n",
        "cheese   American  prod        794538.0\n",
        "                   percent         18.8\n",
        "                   rank             1.0\n",
        "         Italian   prod       1348636.0\n",
        "                   percent         29.5\n",
        "dtype: float64\n"
       ]
      }
     ],
     "prompt_number": 63
    },
    {
     "cell_type": "markdown",
     "metadata": {},
     "source": [
      "Accessing data with multi-index?"
     ]
    },
    {
     "cell_type": "code",
     "collapsed": false,
     "input": [
      "print type(cheese_stack)"
     ],
     "language": "python",
     "metadata": {},
     "outputs": [
      {
       "output_type": "stream",
       "stream": "stdout",
       "text": [
        "<class 'pandas.core.series.Series'>\n"
       ]
      }
     ],
     "prompt_number": 64
    },
    {
     "cell_type": "code",
     "collapsed": false,
     "input": [
      "for x in cheese_stack.index.values:\n",
      "    print x"
     ],
     "language": "python",
     "metadata": {},
     "outputs": [
      {
       "output_type": "stream",
       "stream": "stdout",
       "text": [
        "('cheese', 'American', 'prod')\n",
        "('cheese', 'American', 'percent')\n",
        "('cheese', 'American', 'rank')\n",
        "('cheese', 'Italian', 'prod')\n",
        "('cheese', 'Italian', 'percent')\n",
        "('cheese', 'Italian', 'rank')\n",
        "('cheese', 'Muenster', 'prod')\n",
        "('cheese', 'Muenster', 'percent')\n",
        "('cheese', 'Muenster', 'rank')\n",
        "('cheese', 'brick', 'prod')\n",
        "('cheese', 'brick', 'percent')\n",
        "('cheese', 'brick', 'rank')\n",
        "('cheese', 'Mozzerella', 'prod')\n",
        "('cheese', 'Mozzerella', 'percent')\n",
        "('cheese', 'Mozzerella', 'rank')\n"
       ]
      }
     ],
     "prompt_number": 65
    },
    {
     "cell_type": "code",
     "collapsed": false,
     "input": [
      "print cheese_stack.ix['cheese'].head()"
     ],
     "language": "python",
     "metadata": {},
     "outputs": [
      {
       "output_type": "stream",
       "stream": "stdout",
       "text": [
        "type             \n",
        "American  prod        794538.0\n",
        "          percent         18.8\n",
        "          rank             1.0\n",
        "Italian   prod       1348636.0\n",
        "          percent         29.5\n",
        "dtype: float64\n"
       ]
      }
     ],
     "prompt_number": 66
    },
    {
     "cell_type": "code",
     "collapsed": false,
     "input": [
      "print cheese_stack.ix['cheese']['brick'].head()"
     ],
     "language": "python",
     "metadata": {},
     "outputs": [
      {
       "output_type": "stream",
       "stream": "stdout",
       "text": [
        "prod       3054.0\n",
        "percent      26.7\n",
        "rank          2.0\n",
        "dtype: float64\n"
       ]
      }
     ],
     "prompt_number": 67
    },
    {
     "cell_type": "code",
     "collapsed": false,
     "input": [
      "print cheese_stack.ix['cheese']['brick']['rank']"
     ],
     "language": "python",
     "metadata": {},
     "outputs": [
      {
       "output_type": "stream",
       "stream": "stdout",
       "text": [
        "2.0\n"
       ]
      }
     ],
     "prompt_number": 68
    },
    {
     "cell_type": "markdown",
     "metadata": {},
     "source": [
      "### Back to DataFrame `reset_index` "
     ]
    },
    {
     "cell_type": "code",
     "collapsed": false,
     "input": [
      "print cheese_stack.reset_index().head()"
     ],
     "language": "python",
     "metadata": {},
     "outputs": [
      {
       "output_type": "stream",
       "stream": "stdout",
       "text": [
        "  product      type  level_2          0\n",
        "0  cheese  American     prod   794538.0\n",
        "1  cheese  American  percent       18.8\n",
        "2  cheese  American     rank        1.0\n",
        "3  cheese   Italian     prod  1348636.0\n",
        "4  cheese   Italian  percent       29.5\n"
       ]
      }
     ],
     "prompt_number": 69
    },
    {
     "cell_type": "markdown",
     "metadata": {},
     "source": [
      "We could rename the columns"
     ]
    },
    {
     "cell_type": "code",
     "collapsed": false,
     "input": [
      "print cheese_stack.reset_index().columns.values"
     ],
     "language": "python",
     "metadata": {},
     "outputs": [
      {
       "output_type": "stream",
       "stream": "stdout",
       "text": [
        "['product' 'type' 'level_2' 0L]\n"
       ]
      }
     ],
     "prompt_number": 70
    },
    {
     "cell_type": "markdown",
     "metadata": {},
     "source": [
      "### unstack"
     ]
    },
    {
     "cell_type": "code",
     "collapsed": false,
     "input": [
      "print cheese_stack"
     ],
     "language": "python",
     "metadata": {},
     "outputs": [
      {
       "output_type": "stream",
       "stream": "stdout",
       "text": [
        "product  type               \n",
        "cheese   American    prod        794538.0\n",
        "                     percent         18.8\n",
        "                     rank             1.0\n",
        "         Italian     prod       1348636.0\n",
        "                     percent         29.5\n",
        "                     rank             2.0\n",
        "         Muenster    prod         50108.0\n",
        "                     percent         34.2\n",
        "                     rank             1.0\n",
        "         brick       prod          3054.0\n",
        "                     percent         26.7\n",
        "                     rank             2.0\n",
        "         Mozzerella  prod        898721.0\n",
        "                     percent         25.2\n",
        "                     rank             2.0\n",
        "dtype: float64\n"
       ]
      }
     ],
     "prompt_number": 71
    },
    {
     "cell_type": "code",
     "collapsed": false,
     "input": [
      "print cheese_stack.unstack().head()"
     ],
     "language": "python",
     "metadata": {},
     "outputs": [
      {
       "output_type": "stream",
       "stream": "stdout",
       "text": [
        "                       prod  percent  rank\n",
        "product type                              \n",
        "cheese  American     794538     18.8     1\n",
        "        Italian     1348636     29.5     2\n",
        "        Mozzerella   898721     25.2     2\n",
        "        Muenster      50108     34.2     1\n",
        "        brick          3054     26.7     2\n"
       ]
      }
     ],
     "prompt_number": 72
    },
    {
     "cell_type": "markdown",
     "metadata": {},
     "source": [
      "By default, it unstacks the **last level**."
     ]
    },
    {
     "cell_type": "code",
     "collapsed": false,
     "input": [
      "print cheese_stack.unstack(1).head()"
     ],
     "language": "python",
     "metadata": {},
     "outputs": [
      {
       "output_type": "stream",
       "stream": "stdout",
       "text": [
        "type             American    Italian  Mozzerella  Muenster   brick\n",
        "product                                                           \n",
        "cheese  prod     794538.0  1348636.0    898721.0   50108.0  3054.0\n",
        "        percent      18.8       29.5        25.2      34.2    26.7\n",
        "        rank          1.0        2.0         2.0       1.0     2.0\n"
       ]
      }
     ],
     "prompt_number": 73
    },
    {
     "cell_type": "code",
     "collapsed": false,
     "input": [
      "print cheese_stack.unstack(0)"
     ],
     "language": "python",
     "metadata": {},
     "outputs": [
      {
       "output_type": "stream",
       "stream": "stdout",
       "text": [
        "product                cheese\n",
        "type                         \n",
        "American   prod      794538.0\n",
        "           percent       18.8\n",
        "           rank           1.0\n",
        "Italian    prod     1348636.0\n",
        "           percent       29.5\n",
        "           rank           2.0\n",
        "Mozzerella prod      898721.0\n",
        "           percent       25.2\n",
        "           rank           2.0\n",
        "Muenster   prod       50108.0\n",
        "           percent       34.2\n",
        "           rank           1.0\n",
        "brick      prod        3054.0\n",
        "           percent       26.7\n",
        "           rank           2.0\n"
       ]
      }
     ],
     "prompt_number": 80
    },
    {
     "cell_type": "code",
     "collapsed": false,
     "input": [],
     "language": "python",
     "metadata": {},
     "outputs": [],
     "prompt_number": 31
    },
    {
     "cell_type": "code",
     "collapsed": false,
     "input": [],
     "language": "python",
     "metadata": {},
     "outputs": []
    }
   ],
   "metadata": {}
  }
 ]
}