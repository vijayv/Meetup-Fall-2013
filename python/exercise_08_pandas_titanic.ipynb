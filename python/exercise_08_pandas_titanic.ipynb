{
 "metadata": {
  "css": [
   ""
  ],
  "name": "exercise_08_pandas_titanic.ipynb"
 },
 "nbformat": 3,
 "nbformat_minor": 0,
 "worksheets": [
  {
   "cells": [
    {
     "cell_type": "markdown",
     "metadata": {},
     "source": [
      "#Exercise: Titanic Data with `pandas`"
     ]
    },
    {
     "cell_type": "markdown",
     "metadata": {},
     "source": [
      "Again, this is the 892 line training set from [Kaggle](http://www.kaggle.com/c/titanic-gettingStarted/data).  Same file as before."
     ]
    },
    {
     "cell_type": "code",
     "collapsed": false,
     "input": [
      "import os\n",
      "import pandas as pd\n",
      "data_path = os.path.join('data','titanic.csv')\n",
      "print data_path"
     ],
     "language": "python",
     "metadata": {},
     "outputs": [
      {
       "output_type": "stream",
       "stream": "stdout",
       "text": [
        "data\\titanic.csv\n"
       ]
      }
     ],
     "prompt_number": 1
    },
    {
     "cell_type": "markdown",
     "metadata": {},
     "source": [
      "### Read the data\n",
      "\n",
      "- Read with `pandas.read_csv`\n",
      "- Verify that you get `892` lines"
     ]
    },
    {
     "cell_type": "code",
     "collapsed": false,
     "input": [
      "titanic = pd.read_csv(data_path)\n",
      "print len(titanic)\n",
      "print titanic.head()"
     ],
     "language": "python",
     "metadata": {},
     "outputs": [
      {
       "output_type": "stream",
       "stream": "stdout",
       "text": [
        "891\n",
        "   survived  pclass                                               name  \\\n",
        "0         0       3                            Braund, Mr. Owen Harris   \n",
        "1         1       1  Cumings, Mrs. John Bradley (Florence Briggs Th...   \n",
        "2         1       3                             Heikkinen, Miss. Laina   \n",
        "3         1       1       Futrelle, Mrs. Jacques Heath (Lily May Peel)   \n",
        "4         0       3                           Allen, Mr. William Henry   \n",
        "\n",
        "      sex  age  sibsp  parch            ticket     fare cabin embarked  \n",
        "0    male   22      1      0         A/5 21171   7.2500   NaN        S  \n",
        "1  female   38      1      0          PC 17599  71.2833   C85        C  \n",
        "2  female   26      0      0  STON/O2. 3101282   7.9250   NaN        S  \n",
        "3  female   35      1      0            113803  53.1000  C123        S  \n",
        "4    male   35      0      0            373450   8.0500   NaN        S  \n"
       ]
      }
     ],
     "prompt_number": 2
    },
    {
     "cell_type": "markdown",
     "metadata": {},
     "source": [
      "### What percent of the people survied?\n",
      "\n",
      "- Yes, they survived: `d.survived == 1`"
     ]
    },
    {
     "cell_type": "code",
     "collapsed": false,
     "input": [
      "survivors = titanic['survived'].sum()\n",
      "passengers = len(titanic) + 1\n",
      "print float(survivors) / passengers"
     ],
     "language": "python",
     "metadata": {},
     "outputs": [
      {
       "output_type": "stream",
       "stream": "stdout",
       "text": [
        "0.383408071749\n"
       ]
      }
     ],
     "prompt_number": 3
    },
    {
     "cell_type": "markdown",
     "metadata": {},
     "source": [
      "### Function\n",
      "\n",
      "Write a function that returns a dictionary of the number of `survived`, `not survived`, and `unknown`.  Here is the example function call:\n",
      "```python\n",
      "print titanic_function(data)\n",
      "\n",
      "{'survived': 342, 'not survived': 549}\n",
      "\n",
      "```\n"
     ]
    },
    {
     "cell_type": "code",
     "collapsed": false,
     "input": [
      "def titanic_function(data):\n",
      "    outcome = {'survived':0, 'not survived':0}\n",
      "    for each in data['survived']:\n",
      "        if each:\n",
      "            outcome['survived'] += 1\n",
      "        else:\n",
      "            outcome['not survived'] += 1\n",
      "    return outcome\n",
      "\n",
      "print titanic_function(titanic)"
     ],
     "language": "python",
     "metadata": {},
     "outputs": [
      {
       "output_type": "stream",
       "stream": "stdout",
       "text": [
        "{'survived': 342, 'not survived': 549}\n"
       ]
      }
     ],
     "prompt_number": 10
    },
    {
     "cell_type": "markdown",
     "metadata": {},
     "source": [
      "###What percent of males survived? Females?"
     ]
    },
    {
     "cell_type": "code",
     "collapsed": false,
     "input": [
      "def gender_survival(data):\n",
      "    outcome = {'male':{'survived':0, 'not survived':0}\n",
      "              ,'female':{'survived':0, 'not survived':0}}\n",
      "    # Survived\n",
      "    for each in data.ix[data['survived'] == 1,'sex']:\n",
      "        outcome[each]['survived'] += 1\n",
      "    \n",
      "    # Not Survived\n",
      "    for each in data.ix[data['survived'] == 0,'sex']:\n",
      "        outcome[each]['not survived'] += 1\n",
      "    \n",
      "    return outcome\n",
      "\n",
      "survivals = gender_survival(titanic)\n",
      "male_survive =  float(survivals['male']['survived']) / (survivals['male']['survived'] + survivals['male']['not survived']) * 100\n",
      "female_survive =  float(survivals['female']['survived']) / (survivals['female']['survived'] + survivals['female']['not survived']) * 100\n",
      "\n",
      "print '%s percent of males survived' % male_survive\n",
      "print '%s percent of females survived' % female_survive"
     ],
     "language": "python",
     "metadata": {},
     "outputs": [
      {
       "output_type": "stream",
       "stream": "stdout",
       "text": [
        "18.8908145581 percent of males survived\n",
        "74.2038216561 percent of females survived\n"
       ]
      }
     ],
     "prompt_number": 93
    }
   ],
   "metadata": {}
  }
 ]
}