{
 "metadata": {
  "name": "lecture_16_pandas_cleaning.ipynb"
 },
 "nbformat": 3,
 "nbformat_minor": 0,
 "worksheets": [
  {
   "cells": [
    {
     "cell_type": "markdown",
     "metadata": {},
     "source": [
      "#Cleaning data"
     ]
    },
    {
     "cell_type": "code",
     "collapsed": false,
     "input": [
      "import pandas as pd\n",
      "import os"
     ],
     "language": "python",
     "metadata": {},
     "outputs": [],
     "prompt_number": 3
    },
    {
     "cell_type": "code",
     "collapsed": false,
     "input": [
      "def loadData(infile):\n",
      "    try:\n",
      "        df = pd.read_csv(os.path.join('data',infile))\n",
      "    except (IOError):\n",
      "        print \"%s does not exist\" % infile\n",
      "\n",
      "loadData('exp_sub.csv')"
     ],
     "language": "python",
     "metadata": {},
     "outputs": [
      {
       "output_type": "stream",
       "stream": "stdout",
       "text": [
        "exp_sub.csv does not exist\n"
       ]
      }
     ],
     "prompt_number": 7
    },
    {
     "cell_type": "code",
     "collapsed": false,
     "input": [
      "print df.head()"
     ],
     "language": "python",
     "metadata": {},
     "outputs": [
      {
       "output_type": "stream",
       "stream": "stdout",
       "text": [
        "             filedDate firstName                           lastName  \\\n",
        "0  2013-03-13 00:00:00       NaN                           KEY BANK   \n",
        "1  2013-03-13 00:00:00       NaN                           KEY BANK   \n",
        "2  2013-01-11 00:00:00       NaN                     CITI BANK VISA   \n",
        "3  2013-04-15 00:00:00       NaN                            NGP VAN   \n",
        "4  2013-04-14 00:00:00       NaN  LEADERSHIP PROGRAM OF THE ROCKIES   \n",
        "\n",
        "                             address        city state    zip  amount  \n",
        "0                       PO BOX 22114       ABANY    NY  12201     NaN  \n",
        "1                       PO BOX 22114       ABANY    NY  12201     NaN  \n",
        "2                                . .           .    CO  .....     NaN  \n",
        "3              48 GROVE ST SUITE 202  SOMERVILLE    MA  02144     NaN  \n",
        "4  1777 S. HARRISON STREET, STE. 807      DENVER    CO  80210     NaN  \n"
       ]
      }
     ],
     "prompt_number": 19
    },
    {
     "cell_type": "code",
     "collapsed": false,
     "input": [
      "print df['zip'].unique()"
     ],
     "language": "python",
     "metadata": {},
     "outputs": [
      {
       "output_type": "stream",
       "stream": "stdout",
       "text": [
        "['12201' '.....' '02144' ..., '32696.0' '40401.0' '80807-']\n"
       ]
      }
     ],
     "prompt_number": 20
    },
    {
     "cell_type": "code",
     "collapsed": false,
     "input": [
      "print df['state'].unique()"
     ],
     "language": "python",
     "metadata": {},
     "outputs": [
      {
       "output_type": "stream",
       "stream": "stdout",
       "text": [
        "['NY' 'CO' 'MA' 'ID' 'CA' 'MN' 'NC' 'GA' 'WA' 'DC' 'NJ' 'TX' 'KY' 'TN' 'IN'\n",
        " nan 'AZ' 'MD' 'UT' 'PA' 'WI' 'FL' 'OH' 'NE' 'IL' 'D.' 'WV' 'DE' 'OT' 'MS'\n",
        " 'OK' 'MI' 'DI' 'LA' 'VA' 'ARVADA' 'BC' 'NV' 'TE' 'IA' 'MO' 'N/' 'NM' 'SD'\n",
        " 'ND' 'HI' 'ON' 'NH' 'CT' 'AL' 'KS' 'OR' 'QC' 'AR' 'NB' 'VT' 'MY' 'LU' 'SC'\n",
        " 'SO' 'WY' 'C0' 'UN' 'UK' 'MT' 'HA' 'CP' 'ME' 'BE' 'VI' 'IO' 'KE' 'CHECKS'\n",
        " 'NO' 'PE' 'CANDIDATE NAME TAG' 'GAS & PARKING' 'POSTAGE' 'GAS' 'LO'\n",
        " 'INK CARTRIDGE' 'T-SHIRTS'\n",
        " 'ELECTRONIC DONATION PROCESSING AND TRANSFER FEES' 'PARADE FEE'\n",
        " 'LARIMER DEMS BREAKFAST' 'TRXF FEES' 'PROPANE' 'FUEL' 'LODGING' 'AA'\n",
        " 'MAILING SUPPLIES' 'PARK RESERVATION FEE' 'EU' 'KA' 'LITERATURE'\n",
        " 'ICE CREAM FOR CAMPAIGN SOCIAL' 'GORA GORA ORKESTAR' 'BANK TRANSFER FEES'\n",
        " 'XX' 'CANDIDATE CAMPAIGN CONTRIBUTION' 'TRUMAN CAMPAIGN DINNER' 'IR' 'AB'\n",
        " 'POLITICAL YARD SIGNS' 'ROOM DIVIDER' 'POSTCARD PUBLICATION AND MAILING'\n",
        " 'BANK TRXF FEES' 'GE' 'RI' 'PR' 'AK' 'AP' 'NS' 'BR' 'R.' 'DU' 'BO'\n",
        " 'IN KIND CONTRIBUTION FROM CANDIDATE' 'AU' 'PU']\n"
       ]
      }
     ],
     "prompt_number": 21
    },
    {
     "cell_type": "markdown",
     "metadata": {},
     "source": [
      "##Approach"
     ]
    },
    {
     "cell_type": "code",
     "collapsed": false,
     "input": [
      "def parse_filed_date(dstr):\n",
      "    try:\n",
      "        tmp = str(dstr).split('-')\n",
      "        year, month, day = tmp[0], tmp[1], tmp[2][:2]\n",
      "        return datetime.date(year=int(year), month=int(month), day=int(day))\n",
      "    except ValueError:\n",
      "        return datetime.date(year=1990, month=1, day=1)\n",
      "    except IndexError:\n",
      "        return datetime.date(year=1990, month=1, day=1)"
     ],
     "language": "python",
     "metadata": {},
     "outputs": [],
     "prompt_number": 22
    },
    {
     "cell_type": "code",
     "collapsed": false,
     "input": [
      "def cleanup_zip(zipcode):\n",
      "    tmp = str(zipcode)\n",
      "    if tmp.find('-') > 0:\n",
      "        tmp = tmp[:tmp.find('-')]\n",
      "    try:    \n",
      "        tmp = str(abs(int(float(tmp))))\n",
      "    except ValueError:\n",
      "        tmp = '99999'\n",
      "        \n",
      "    if len(tmp) < 5:\n",
      "        tmp = '99999'\n",
      "    elif len(tmp) > 5:\n",
      "        tmp = tmp[:5]\n",
      "        \n",
      "    return tmp"
     ],
     "language": "python",
     "metadata": {},
     "outputs": [],
     "prompt_number": 23
    },
    {
     "cell_type": "code",
     "collapsed": false,
     "input": [
      "df['zip'] = df['zip'].map(cleanup_zip)"
     ],
     "language": "python",
     "metadata": {},
     "outputs": [],
     "prompt_number": 24
    },
    {
     "cell_type": "code",
     "collapsed": false,
     "input": [
      "df['date'] = df['filedDate'].map(parse_filed_date)"
     ],
     "language": "python",
     "metadata": {},
     "outputs": [],
     "prompt_number": 25
    },
    {
     "cell_type": "code",
     "collapsed": false,
     "input": [
      "print df.head(10)"
     ],
     "language": "python",
     "metadata": {},
     "outputs": [
      {
       "output_type": "stream",
       "stream": "stdout",
       "text": [
        "             filedDate firstName                           lastName  \\\n",
        "0  2013-03-13 00:00:00       NaN                           KEY BANK   \n",
        "1  2013-03-13 00:00:00       NaN                           KEY BANK   \n",
        "2  2013-01-11 00:00:00       NaN                     CITI BANK VISA   \n",
        "3  2013-04-15 00:00:00       NaN                            NGP VAN   \n",
        "4  2013-04-14 00:00:00       NaN  LEADERSHIP PROGRAM OF THE ROCKIES   \n",
        "5  2013-04-14 00:00:00       NaN                   CONSTANT CONTACT   \n",
        "6  2013-04-15 00:00:00       NaN                           1ST BANK   \n",
        "7  2013-07-15 00:00:00       NaN                           1ST BANK   \n",
        "8  2013-07-15 00:00:00       NaN                           1ST BANK   \n",
        "9  2013-01-09 00:00:00       NaN                        WELLS FARGO   \n",
        "\n",
        "                             address               city state    zip  amount  \\\n",
        "0                       PO BOX 22114              ABANY    NY  12201     NaN   \n",
        "1                       PO BOX 22114              ABANY    NY  12201     NaN   \n",
        "2                                . .                  .    CO  99999     NaN   \n",
        "3              48 GROVE ST SUITE 202         SOMERVILLE    MA  99999     NaN   \n",
        "4  1777 S. HARRISON STREET, STE. 807             DENVER    CO  80210     NaN   \n",
        "5                  1601 TRAPELO ROAD            WALTHAM    MA  99999     NaN   \n",
        "6                        PO BOX 4547  GREENWOOD VILLAGE    CO  80115     NaN   \n",
        "7                        PO BOX 4547  GREENWOOD VILLAGE    CO  80115     NaN   \n",
        "8                        PO BOX 4547  GREENWOOD VILLAGE    CO  80115     NaN   \n",
        "9          18220 E 104TH AVE STE 101     COMMERECE CITY    CO  80022     NaN   \n",
        "\n",
        "         date  \n",
        "0  2013-03-13  \n",
        "1  2013-03-13  \n",
        "2  2013-01-11  \n",
        "3  2013-04-15  \n",
        "4  2013-04-14  \n",
        "5  2013-04-14  \n",
        "6  2013-04-15  \n",
        "7  2013-07-15  \n",
        "8  2013-07-15  \n",
        "9  2013-01-09  \n"
       ]
      }
     ],
     "prompt_number": 26
    },
    {
     "cell_type": "markdown",
     "metadata": {},
     "source": [
      "What percent is bad?"
     ]
    },
    {
     "cell_type": "code",
     "collapsed": false,
     "input": [
      "print np.sum(df['zip'] == '99999')/float(len(df))*100"
     ],
     "language": "python",
     "metadata": {},
     "outputs": [
      {
       "output_type": "stream",
       "stream": "stdout",
       "text": [
        "7.89467765404\n"
       ]
      }
     ],
     "prompt_number": 34
    },
    {
     "cell_type": "code",
     "collapsed": false,
     "input": [
      "print np.sum(df['date'] == datetime.date(year=1990, month=1, day=1))/float(len(df))*100"
     ],
     "language": "python",
     "metadata": {},
     "outputs": [
      {
       "output_type": "stream",
       "stream": "stdout",
       "text": [
        "0.019723285761\n"
       ]
      }
     ],
     "prompt_number": 35
    },
    {
     "cell_type": "code",
     "collapsed": false,
     "input": [
      "def cleanup_zip2(zipcode):\n",
      "    tmp = str(zipcode)\n",
      "    print tmp\n",
      "        \n",
      "    "
     ],
     "language": "python",
     "metadata": {},
     "outputs": [],
     "prompt_number": 49
    },
    {
     "cell_type": "code",
     "collapsed": false,
     "input": [
      "df['zip'].map(cleanup_zip2)"
     ],
     "language": "python",
     "metadata": {},
     "outputs": [],
     "prompt_number": 45
    },
    {
     "cell_type": "code",
     "collapsed": false,
     "input": [],
     "language": "python",
     "metadata": {},
     "outputs": []
    }
   ],
   "metadata": {}
  }
 ]
}