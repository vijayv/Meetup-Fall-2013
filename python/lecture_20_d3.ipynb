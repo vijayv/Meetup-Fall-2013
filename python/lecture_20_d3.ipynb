{
 "metadata": {
  "name": "lecture_20_d3.ipynb"
 },
 "nbformat": 3,
 "nbformat_minor": 0,
 "worksheets": [
  {
   "cells": [
    {
     "cell_type": "markdown",
     "metadata": {},
     "source": [
      "# Integrating `d3` into a notebook"
     ]
    },
    {
     "cell_type": "markdown",
     "metadata": {},
     "source": [
      "A few strategies:\n",
      "\n",
      "- Write the javascript code and save as a template\n",
      "    - serve the json data\n",
      "    - write the data into the template\n",
      "- Display to the notebook\n",
      "    - `HTML`\n",
      "    - `<iframe>`\n"
     ]
    },
    {
     "cell_type": "code",
     "collapsed": false,
     "input": [
      "from IPython.core.display import display, HTML\n",
      "import pandas as pd\n",
      "import os\n",
      "\n",
      "import d3 # library I am working on..."
     ],
     "language": "python",
     "metadata": {},
     "outputs": [],
     "prompt_number": "*"
    },
    {
     "cell_type": "code",
     "collapsed": false,
     "input": [
      "cars = pd.read_csv(os.path.join('data','cars.csv'))\n",
      "iris = pd.read_csv(os.path.join('data','iris.csv'))\n",
      "cars = cars.dropna()\n",
      "iris = iris.dropna()"
     ],
     "language": "python",
     "metadata": {},
     "outputs": [],
     "prompt_number": "*"
    },
    {
     "cell_type": "markdown",
     "metadata": {},
     "source": [
      "##Simple example"
     ]
    },
    {
     "cell_type": "code",
     "collapsed": false,
     "input": [
      "d3.collide().show()"
     ],
     "language": "python",
     "metadata": {},
     "outputs": [],
     "prompt_number": "*"
    }
   ],
   "metadata": {}
  }
 ]
}