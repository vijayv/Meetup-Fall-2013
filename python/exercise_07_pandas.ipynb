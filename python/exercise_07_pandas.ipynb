{
 "metadata": {
  "css": [
   ""
  ],
  "name": "exercise_07_pandas.ipynb"
 },
 "nbformat": 3,
 "nbformat_minor": 0,
 "worksheets": [
  {
   "cells": [
    {
     "cell_type": "markdown",
     "metadata": {},
     "source": [
      "#Exercise using `pandas` `DataFrame`"
     ]
    },
    {
     "cell_type": "markdown",
     "metadata": {},
     "source": [
      "This is a quiz given in Roger Peng [Coursera](https://www.coursera.org) class [Computing for Data Analysis](https://www.coursera.org/course/compdata).\n",
      "\n"
     ]
    },
    {
     "cell_type": "code",
     "collapsed": false,
     "input": [
      "import pandas as pd\n",
      "import os\n",
      "\n",
      "data = pd.read_csv(os.path.join('data', 'hw1_data.csv'))"
     ],
     "language": "python",
     "metadata": {},
     "outputs": [],
     "prompt_number": 2
    },
    {
     "cell_type": "code",
     "collapsed": false,
     "input": [
      "print data.head()"
     ],
     "language": "python",
     "metadata": {},
     "outputs": [
      {
       "output_type": "stream",
       "stream": "stdout",
       "text": [
        "   Ozone  Solar.R  Wind  Temp  Month  Day\n",
        "0     41      190   7.4    67      5    1\n",
        "1     36      118   8.0    72      5    2\n",
        "2     12      149  12.6    74      5    3\n",
        "3     18      313  11.5    62      5    4\n",
        "4    NaN      NaN  14.3    56      5    5\n"
       ]
      }
     ],
     "prompt_number": 3
    },
    {
     "cell_type": "markdown",
     "metadata": {},
     "source": [
      "Print the column names of the dataset to the screen, one column name per line.  "
     ]
    },
    {
     "cell_type": "code",
     "collapsed": false,
     "input": [
      "for entry in data.columns.values:\n",
      "    print entry"
     ],
     "language": "python",
     "metadata": {},
     "outputs": [
      {
       "output_type": "stream",
       "stream": "stdout",
       "text": [
        "Ozone\n",
        "Solar.R\n",
        "Wind\n",
        "Temp\n",
        "Month\n",
        "Day\n",
        "Ozone is null\n"
       ]
      }
     ],
     "prompt_number": 55
    },
    {
     "cell_type": "markdown",
     "metadata": {},
     "source": [
      "Extract the first 2 rows of the data frame and print them to the console. What does the output\n",
      "look like?"
     ]
    },
    {
     "cell_type": "code",
     "collapsed": false,
     "input": [
      "print data.head(2)"
     ],
     "language": "python",
     "metadata": {},
     "outputs": [
      {
       "output_type": "stream",
       "stream": "stdout",
       "text": [
        "   Ozone  Solar.R  Wind  Temp  Month  Day\n",
        "0     41      190   7.4    67      5    1\n",
        "1     36      118   8.0    72      5    2\n"
       ]
      }
     ],
     "prompt_number": 13
    },
    {
     "cell_type": "markdown",
     "metadata": {},
     "source": [
      "How many observations (i.e. rows) are in this data frame?"
     ]
    },
    {
     "cell_type": "code",
     "collapsed": false,
     "input": [
      "print len(data)"
     ],
     "language": "python",
     "metadata": {},
     "outputs": [
      {
       "output_type": "stream",
       "stream": "stdout",
       "text": [
        "153\n"
       ]
      }
     ],
     "prompt_number": 14
    },
    {
     "cell_type": "markdown",
     "metadata": {},
     "source": [
      "Extract the last 2 rows of the data frame and print them to the console. What does the output\n",
      "look like?"
     ]
    },
    {
     "cell_type": "code",
     "collapsed": false,
     "input": [
      "print data.tail(2)"
     ],
     "language": "python",
     "metadata": {},
     "outputs": [
      {
       "output_type": "stream",
       "stream": "stdout",
       "text": [
        "     Ozone  Solar.R  Wind  Temp  Month  Day\n",
        "151     18      131   8.0    76      9   29\n",
        "152     20      223  11.5    68      9   30\n"
       ]
      }
     ],
     "prompt_number": 16
    },
    {
     "cell_type": "markdown",
     "metadata": {},
     "source": [
      "What is the value of Ozone in the 47th row?"
     ]
    },
    {
     "cell_type": "code",
     "collapsed": false,
     "input": [
      "print data[\"Ozone\"].ix[46]"
     ],
     "language": "python",
     "metadata": {},
     "outputs": [
      {
       "output_type": "stream",
       "stream": "stdout",
       "text": [
        "21.0\n"
       ]
      }
     ],
     "prompt_number": 19
    },
    {
     "cell_type": "markdown",
     "metadata": {},
     "source": [
      "How many missing values are in the Ozone column of this data frame?"
     ]
    },
    {
     "cell_type": "code",
     "collapsed": false,
     "input": [
      "data[\"Ozone is null\"] = data[\"Ozone\"].isnull()\n",
      "print data.groupby(\"Ozone is null\").size()"
     ],
     "language": "python",
     "metadata": {},
     "outputs": [
      {
       "output_type": "stream",
       "stream": "stdout",
       "text": [
        "Ozone is null\n",
        "False            116\n",
        "True              37\n",
        "dtype: int64\n"
       ]
      }
     ],
     "prompt_number": 40
    },
    {
     "cell_type": "markdown",
     "metadata": {},
     "source": [
      "What is the mean of the Ozone column in this dataset? Exclude missing values (coded as NA)\n",
      "from this calculation."
     ]
    },
    {
     "cell_type": "code",
     "collapsed": false,
     "input": [
      "print data[\"Ozone\"].mean(skipna=True)"
     ],
     "language": "python",
     "metadata": {},
     "outputs": [
      {
       "output_type": "stream",
       "stream": "stdout",
       "text": [
        "42.1293103448\n"
       ]
      }
     ],
     "prompt_number": 44
    },
    {
     "cell_type": "markdown",
     "metadata": {},
     "source": [
      "Extract the subset of rows of the data frame where Ozone values are above 31 and Temp values\n",
      "are above 90. What is the mean of Solar.R in this subset?"
     ]
    },
    {
     "cell_type": "code",
     "collapsed": false,
     "input": [
      "subdata = data[(data[\"Ozone\"] > 31) & (data[\"Temp\"] > 90)]\n",
      "print subdata[\"Solar.R\"].mean()"
     ],
     "language": "python",
     "metadata": {},
     "outputs": [
      {
       "output_type": "stream",
       "stream": "stdout",
       "text": [
        "212.8\n"
       ]
      }
     ],
     "prompt_number": 56
    },
    {
     "cell_type": "markdown",
     "metadata": {},
     "source": [
      "What is the mean of \"Temp\" when \"Month\" is equal to 6?"
     ]
    },
    {
     "cell_type": "code",
     "collapsed": false,
     "input": [
      "print data[data[\"Month\"] == 6][\"Temp\"].mean()"
     ],
     "language": "python",
     "metadata": {},
     "outputs": [
      {
       "output_type": "stream",
       "stream": "stdout",
       "text": [
        "79.1\n"
       ]
      }
     ],
     "prompt_number": 57
    },
    {
     "cell_type": "markdown",
     "metadata": {},
     "source": [
      "What was the maximum ozone value in the month of May (i.e. Month = 5)?"
     ]
    },
    {
     "cell_type": "code",
     "collapsed": false,
     "input": [
      "print data[data[\"Month\"] == 5][\"Ozone\"].max()"
     ],
     "language": "python",
     "metadata": {},
     "outputs": [
      {
       "output_type": "stream",
       "stream": "stdout",
       "text": [
        "115.0\n"
       ]
      }
     ],
     "prompt_number": 58
    }
   ],
   "metadata": {}
  }
 ]
}