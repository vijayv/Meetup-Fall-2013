{
 "metadata": {
  "css": [
   ""
  ],
  "name": "lecture_11_pandas_adding_data.ipynb"
 },
 "nbformat": 3,
 "nbformat_minor": 0,
 "worksheets": [
  {
   "cells": [
    {
     "cell_type": "markdown",
     "metadata": {},
     "source": [
      "#Adding data\n",
      "\n",
      "Scalars, lists, concat, and merge"
     ]
    },
    {
     "cell_type": "code",
     "collapsed": false,
     "input": [
      "import pandas as pd"
     ],
     "language": "python",
     "metadata": {},
     "outputs": [],
     "prompt_number": 2
    },
    {
     "cell_type": "markdown",
     "metadata": {},
     "source": [
      "##Outline\n",
      "\n",
      "- **scalars and lists**\n",
      "- **concat**: Stacks DataFrames to create more rows or aligns to create columns\n",
      "- **merge**: Joins rows based on one or more keys.  Think SQL join."
     ]
    },
    {
     "cell_type": "code",
     "collapsed": false,
     "input": [
      "names = ['John', 'Matt', 'Sara', 'Jim', 'Ashley']\n",
      "ids = [ 23, 34, 83, 86, 12]\n",
      "balance = [10.2, 84.3, 72.9, 27.1, 223.1]\n",
      "\n",
      "users = pd.DataFrame({'names':names, 'bal': balance}, index=ids)\n",
      "print users"
     ],
     "language": "python",
     "metadata": {},
     "outputs": [
      {
       "output_type": "stream",
       "stream": "stdout",
       "text": [
        "      bal   names\n",
        "23   10.2    John\n",
        "34   84.3    Matt\n",
        "83   72.9    Sara\n",
        "86   27.1     Jim\n",
        "12  223.1  Ashley\n"
       ]
      }
     ],
     "prompt_number": 3
    },
    {
     "cell_type": "markdown",
     "metadata": {},
     "source": [
      "### Scalar values and lists\n",
      "\n",
      "Broadcast style"
     ]
    },
    {
     "cell_type": "code",
     "collapsed": false,
     "input": [
      "users['last'] = 'smith'\n",
      "print users"
     ],
     "language": "python",
     "metadata": {},
     "outputs": [
      {
       "output_type": "stream",
       "stream": "stdout",
       "text": [
        "      bal   names   last\n",
        "23   10.2    John  smith\n",
        "34   84.3    Matt  smith\n",
        "83   72.9    Sara  smith\n",
        "86   27.1     Jim  smith\n",
        "12  223.1  Ashley  smith\n"
       ]
      }
     ],
     "prompt_number": 4
    },
    {
     "cell_type": "markdown",
     "metadata": {},
     "source": [
      "With `list` or `np.arrray` of same length"
     ]
    },
    {
     "cell_type": "code",
     "collapsed": false,
     "input": [
      "users['random'] = np.random.rand(len(users))\n",
      "print users"
     ],
     "language": "python",
     "metadata": {},
     "outputs": [
      {
       "output_type": "stream",
       "stream": "stdout",
       "text": [
        "      bal   names   last    random\n",
        "23   10.2    John  smith  0.610039\n",
        "34   84.3    Matt  smith  0.220410\n",
        "83   72.9    Sara  smith  0.979400\n",
        "86   27.1     Jim  smith  0.800105\n",
        "12  223.1  Ashley  smith  0.983823\n"
       ]
      }
     ],
     "prompt_number": 5
    },
    {
     "cell_type": "markdown",
     "metadata": {},
     "source": [
      "###Adding `DataFrames` with `concat`"
     ]
    },
    {
     "cell_type": "code",
     "collapsed": false,
     "input": [
      "n_users = users.copy()\n",
      "df_list = [n_users, users]\n",
      "all_users = pd.concat(df_list)\n",
      "print all_users"
     ],
     "language": "python",
     "metadata": {},
     "outputs": [
      {
       "output_type": "stream",
       "stream": "stdout",
       "text": [
        "      bal   names   last    random\n",
        "23   10.2    John  smith  0.610039\n",
        "34   84.3    Matt  smith  0.220410\n",
        "83   72.9    Sara  smith  0.979400\n",
        "86   27.1     Jim  smith  0.800105\n",
        "12  223.1  Ashley  smith  0.983823\n",
        "23   10.2    John  smith  0.610039\n",
        "34   84.3    Matt  smith  0.220410\n",
        "83   72.9    Sara  smith  0.979400\n",
        "86   27.1     Jim  smith  0.800105\n",
        "12  223.1  Ashley  smith  0.983823\n"
       ]
      }
     ],
     "prompt_number": 12
    },
    {
     "cell_type": "markdown",
     "metadata": {},
     "source": [
      "`unique()` returns a list of unique index values"
     ]
    },
    {
     "cell_type": "code",
     "collapsed": false,
     "input": [
      "all_users.index.unique()"
     ],
     "language": "python",
     "metadata": {},
     "outputs": [
      {
       "output_type": "pyout",
       "prompt_number": 13,
       "text": [
        "array([23, 34, 83, 86, 12], dtype=int64)"
       ]
      }
     ],
     "prompt_number": 13
    },
    {
     "cell_type": "markdown",
     "metadata": {},
     "source": [
      "`is_unique` is a boolean member of the `index` object"
     ]
    },
    {
     "cell_type": "code",
     "collapsed": false,
     "input": [
      "all_users.index.is_unique"
     ],
     "language": "python",
     "metadata": {},
     "outputs": [
      {
       "output_type": "pyout",
       "prompt_number": 14,
       "text": [
        "False"
       ]
      }
     ],
     "prompt_number": 14
    },
    {
     "cell_type": "code",
     "collapsed": false,
     "input": [
      "print all_users.reset_index()"
     ],
     "language": "python",
     "metadata": {},
     "outputs": [
      {
       "output_type": "stream",
       "stream": "stdout",
       "text": [
        "   index    bal   names   last    random\n",
        "0     23   10.2    John  smith  0.610039\n",
        "1     34   84.3    Matt  smith  0.220410\n",
        "2     83   72.9    Sara  smith  0.979400\n",
        "3     86   27.1     Jim  smith  0.800105\n",
        "4     12  223.1  Ashley  smith  0.983823\n",
        "5     23   10.2    John  smith  0.610039\n",
        "6     34   84.3    Matt  smith  0.220410\n",
        "7     83   72.9    Sara  smith  0.979400\n",
        "8     86   27.1     Jim  smith  0.800105\n",
        "9     12  223.1  Ashley  smith  0.983823\n"
       ]
      }
     ],
     "prompt_number": 15
    },
    {
     "cell_type": "code",
     "collapsed": false,
     "input": [
      "all_users.index = range(len(all_users))\n",
      "print all_users"
     ],
     "language": "python",
     "metadata": {},
     "outputs": [
      {
       "output_type": "stream",
       "stream": "stdout",
       "text": [
        "     bal   names   last    random\n",
        "0   10.2    John  smith  0.610039\n",
        "1   84.3    Matt  smith  0.220410\n",
        "2   72.9    Sara  smith  0.979400\n",
        "3   27.1     Jim  smith  0.800105\n",
        "4  223.1  Ashley  smith  0.983823\n",
        "5   10.2    John  smith  0.610039\n",
        "6   84.3    Matt  smith  0.220410\n",
        "7   72.9    Sara  smith  0.979400\n",
        "8   27.1     Jim  smith  0.800105\n",
        "9  223.1  Ashley  smith  0.983823\n"
       ]
      }
     ],
     "prompt_number": 16
    },
    {
     "cell_type": "code",
     "collapsed": false,
     "input": [
      "all_users = pd.concat(df_list, ignore_index=True)\n",
      "print all_users"
     ],
     "language": "python",
     "metadata": {},
     "outputs": [
      {
       "output_type": "stream",
       "stream": "stdout",
       "text": [
        "     bal   names   last    random\n",
        "0   10.2    John  smith  0.610039\n",
        "1   84.3    Matt  smith  0.220410\n",
        "2   72.9    Sara  smith  0.979400\n",
        "3   27.1     Jim  smith  0.800105\n",
        "4  223.1  Ashley  smith  0.983823\n",
        "5   10.2    John  smith  0.610039\n",
        "6   84.3    Matt  smith  0.220410\n",
        "7   72.9    Sara  smith  0.979400\n",
        "8   27.1     Jim  smith  0.800105\n",
        "9  223.1  Ashley  smith  0.983823\n"
       ]
      }
     ],
     "prompt_number": 19
    },
    {
     "cell_type": "markdown",
     "metadata": {},
     "source": [
      "Takes care of alignment when concatenating columns"
     ]
    },
    {
     "cell_type": "code",
     "collapsed": false,
     "input": [
      "all_users = pd.concat(df_list, axis=1)\n",
      "print all_users"
     ],
     "language": "python",
     "metadata": {},
     "outputs": [
      {
       "output_type": "stream",
       "stream": "stdout",
       "text": [
        "      bal   names   last    random    bal   names   last    random\n",
        "23   10.2    John  smith  0.610039   10.2    John  smith  0.610039\n",
        "34   84.3    Matt  smith  0.220410   84.3    Matt  smith  0.220410\n",
        "83   72.9    Sara  smith  0.979400   72.9    Sara  smith  0.979400\n",
        "86   27.1     Jim  smith  0.800105   27.1     Jim  smith  0.800105\n",
        "12  223.1  Ashley  smith  0.983823  223.1  Ashley  smith  0.983823\n"
       ]
      }
     ],
     "prompt_number": 20
    },
    {
     "cell_type": "code",
     "collapsed": false,
     "input": [
      "#help(pd.concat)"
     ],
     "language": "python",
     "metadata": {},
     "outputs": [],
     "prompt_number": 13
    },
    {
     "cell_type": "markdown",
     "metadata": {},
     "source": [
      "### Application: names\n",
      "\n",
      "This is adapted from [Python for Data Analysis](http://shop.oreilly.com/product/0636920023784.do) by Wes McKinney"
     ]
    },
    {
     "cell_type": "code",
     "collapsed": false,
     "input": [
      "import os\n",
      "filename = os.path.join('data','names','yob1880.txt')\n",
      "names = pd.read_csv(filename, names=['name','gender','births'])\n",
      "print names.head()"
     ],
     "language": "python",
     "metadata": {},
     "outputs": [
      {
       "output_type": "stream",
       "stream": "stdout",
       "text": [
        "        name gender  births\n",
        "0       Mary      F    7065\n",
        "1       Anna      F    2604\n",
        "2       Emma      F    2003\n",
        "3  Elizabeth      F    1939\n",
        "4     Minnie      F    1746\n"
       ]
      }
     ],
     "prompt_number": 22
    },
    {
     "cell_type": "code",
     "collapsed": false,
     "input": [
      "names['year'] = 1880\n",
      "print names.head()"
     ],
     "language": "python",
     "metadata": {},
     "outputs": [
      {
       "output_type": "stream",
       "stream": "stdout",
       "text": [
        "        name gender  births  year\n",
        "0       Mary      F    7065  1880\n",
        "1       Anna      F    2604  1880\n",
        "2       Emma      F    2003  1880\n",
        "3  Elizabeth      F    1939  1880\n",
        "4     Minnie      F    1746  1880\n"
       ]
      }
     ],
     "prompt_number": 23
    },
    {
     "cell_type": "markdown",
     "metadata": {},
     "source": [
      "Let's add another DataFrame"
     ]
    },
    {
     "cell_type": "code",
     "collapsed": false,
     "input": [
      "filename = os.path.join('data','names','yob1881.txt')\n",
      "tmp = pd.read_csv(filename, names=['name','gender','births'])\n",
      "tmp['year'] = 1881\n",
      "print len(names), len(tmp)"
     ],
     "language": "python",
     "metadata": {},
     "outputs": [
      {
       "output_type": "stream",
       "stream": "stdout",
       "text": [
        "2000 1935\n"
       ]
      }
     ],
     "prompt_number": 24
    },
    {
     "cell_type": "code",
     "collapsed": false,
     "input": [
      "names = pd.concat([names, tmp], ignore_index=True)\n",
      "print len(names)\n",
      "print names.head()"
     ],
     "language": "python",
     "metadata": {},
     "outputs": [
      {
       "output_type": "stream",
       "stream": "stdout",
       "text": [
        "3935\n",
        "        name gender  births  year\n",
        "0       Mary      F    7065  1880\n",
        "1       Anna      F    2604  1880\n",
        "2       Emma      F    2003  1880\n",
        "3  Elizabeth      F    1939  1880\n",
        "4     Minnie      F    1746  1880\n"
       ]
      }
     ],
     "prompt_number": 25
    },
    {
     "cell_type": "markdown",
     "metadata": {},
     "source": [
      "Add all the names"
     ]
    },
    {
     "cell_type": "code",
     "collapsed": false,
     "input": [
      "import glob\n",
      "\n",
      "frame_array = []\n",
      "files = glob.glob(os.path.join('data','names','*.txt'))\n",
      "for file in files:\n",
      "    start_index = file.find('yob')+3\n",
      "    year = int(file[start_index:start_index+4])\n",
      "    tmp = pd.read_csv(file, names=['name','gender','births'])\n",
      "    tmp['year'] = year\n",
      "    frame_array.append(tmp)\n",
      "\n",
      "names = pd.concat(frame_array, ignore_index=True)"
     ],
     "language": "python",
     "metadata": {},
     "outputs": [],
     "prompt_number": 26
    },
    {
     "cell_type": "code",
     "collapsed": false,
     "input": [
      "print len(names)"
     ],
     "language": "python",
     "metadata": {},
     "outputs": [
      {
       "output_type": "stream",
       "stream": "stdout",
       "text": [
        "1724892\n"
       ]
      }
     ],
     "prompt_number": 19
    },
    {
     "cell_type": "markdown",
     "metadata": {},
     "source": [
      "##Merge: The Movie Dataset\n",
      "\n",
      "This is adapted from [Python for Data Analysis](http://shop.oreilly.com/product/0636920023784.do) by Wes McKinney"
     ]
    },
    {
     "cell_type": "code",
     "collapsed": false,
     "input": [
      "unames = ['user_id','gender','age','occupation','zip']\n",
      "users = pd.read_table(os.path.join('data','movies','users.dat'), sep='::', header=None, names=unames)\n",
      "print users.head()"
     ],
     "language": "python",
     "metadata": {},
     "outputs": [
      {
       "output_type": "stream",
       "stream": "stdout",
       "text": [
        "   user_id gender  age  occupation    zip\n",
        "0        1      F    1          10  48067\n",
        "1        2      M   56          16  70072\n",
        "2        3      M   25          15  55117\n",
        "3        4      M   45           7  02460\n",
        "4        5      M   25          20  55455\n"
       ]
      }
     ],
     "prompt_number": 20
    },
    {
     "cell_type": "code",
     "collapsed": false,
     "input": [
      "rnames = ['user_id', 'movie_id', 'rating', 'timestamp']\n",
      "ratings = pd.read_table(os.path.join('data','movies','ratings.dat'), sep='::', header=None, names=rnames)\n",
      "print ratings.head()"
     ],
     "language": "python",
     "metadata": {},
     "outputs": [
      {
       "output_type": "stream",
       "stream": "stdout",
       "text": [
        "   user_id  movie_id  rating  timestamp\n",
        "0        1      1193       5  978300760\n",
        "1        1       661       3  978302109\n",
        "2        1       914       3  978301968\n",
        "3        1      3408       4  978300275\n",
        "4        1      2355       5  978824291\n"
       ]
      }
     ],
     "prompt_number": 21
    },
    {
     "cell_type": "code",
     "collapsed": false,
     "input": [
      "mnames = ['movie_id', 'title','genres']\n",
      "movies = pd.read_table(os.path.join('data','movies','movies.dat'), sep='::', header=None, names=mnames)\n",
      "print movies.head()"
     ],
     "language": "python",
     "metadata": {},
     "outputs": [
      {
       "output_type": "stream",
       "stream": "stdout",
       "text": [
        "   movie_id                               title                        genres\n",
        "0         1                    Toy Story (1995)   Animation|Children's|Comedy\n",
        "1         2                      Jumanji (1995)  Adventure|Children's|Fantasy\n",
        "2         3             Grumpier Old Men (1995)                Comedy|Romance\n",
        "3         4            Waiting to Exhale (1995)                  Comedy|Drama\n",
        "4         5  Father of the Bride Part II (1995)                        Comedy\n"
       ]
      }
     ],
     "prompt_number": 22
    },
    {
     "cell_type": "code",
     "collapsed": false,
     "input": [
      "tmp = pd.merge(ratings, users, on='user_id', how='inner') # on and how are set to defaults\n",
      "data = pd.merge(tmp, movies, on='movie_id')\n",
      "print data.head()"
     ],
     "language": "python",
     "metadata": {},
     "outputs": [
      {
       "output_type": "stream",
       "stream": "stdout",
       "text": [
        "   user_id  movie_id  rating  timestamp gender  age  occupation    zip  \\\n",
        "0        1      1193       5  978300760      F    1          10  48067   \n",
        "1        2      1193       5  978298413      M   56          16  70072   \n",
        "2       12      1193       4  978220179      M   25          12  32793   \n",
        "3       15      1193       4  978199279      M   25           7  22903   \n",
        "4       17      1193       5  978158471      M   50           1  95350   \n",
        "\n",
        "                                    title genres  \n",
        "0  One Flew Over the Cuckoo's Nest (1975)  Drama  \n",
        "1  One Flew Over the Cuckoo's Nest (1975)  Drama  \n",
        "2  One Flew Over the Cuckoo's Nest (1975)  Drama  \n",
        "3  One Flew Over the Cuckoo's Nest (1975)  Drama  \n",
        "4  One Flew Over the Cuckoo's Nest (1975)  Drama  \n"
       ]
      }
     ],
     "prompt_number": 23
    },
    {
     "cell_type": "markdown",
     "metadata": {},
     "source": [
      "`help(pd.merge)` for more information on how and on"
     ]
    },
    {
     "cell_type": "code",
     "collapsed": false,
     "input": [
      "data = pd.merge(pd.merge(ratings, users), movies)\n",
      "print data.head()"
     ],
     "language": "python",
     "metadata": {},
     "outputs": [
      {
       "ename": "NameError",
       "evalue": "name 'ratings' is not defined",
       "output_type": "pyerr",
       "traceback": [
        "\u001b[1;31m---------------------------------------------------------------------------\u001b[0m\n\u001b[1;31mNameError\u001b[0m                                 Traceback (most recent call last)",
        "\u001b[1;32m<ipython-input-27-eec3f5d56e4d>\u001b[0m in \u001b[0;36m<module>\u001b[1;34m()\u001b[0m\n\u001b[1;32m----> 1\u001b[1;33m \u001b[0mdata\u001b[0m \u001b[1;33m=\u001b[0m \u001b[0mpd\u001b[0m\u001b[1;33m.\u001b[0m\u001b[0mmerge\u001b[0m\u001b[1;33m(\u001b[0m\u001b[0mpd\u001b[0m\u001b[1;33m.\u001b[0m\u001b[0mmerge\u001b[0m\u001b[1;33m(\u001b[0m\u001b[0mratings\u001b[0m\u001b[1;33m,\u001b[0m \u001b[0musers\u001b[0m\u001b[1;33m)\u001b[0m\u001b[1;33m,\u001b[0m \u001b[0mmovies\u001b[0m\u001b[1;33m)\u001b[0m\u001b[1;33m\u001b[0m\u001b[0m\n\u001b[0m\u001b[0;32m      2\u001b[0m \u001b[1;32mprint\u001b[0m \u001b[0mdata\u001b[0m\u001b[1;33m.\u001b[0m\u001b[0mhead\u001b[0m\u001b[1;33m(\u001b[0m\u001b[1;33m)\u001b[0m\u001b[1;33m\u001b[0m\u001b[0m\n",
        "\u001b[1;31mNameError\u001b[0m: name 'ratings' is not defined"
       ]
      }
     ],
     "prompt_number": 27
    },
    {
     "cell_type": "code",
     "collapsed": false,
     "input": [],
     "language": "python",
     "metadata": {},
     "outputs": [],
     "prompt_number": 24
    }
   ],
   "metadata": {}
  }
 ]
}