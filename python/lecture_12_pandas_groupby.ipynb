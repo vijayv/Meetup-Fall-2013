{
 "metadata": {
  "css": [
   ""
  ],
  "name": "lecture_12_pandas_groupby.ipynb"
 },
 "nbformat": 3,
 "nbformat_minor": 0,
 "worksheets": [
  {
   "cells": [
    {
     "cell_type": "markdown",
     "metadata": {},
     "source": [
      "#Groupby\n",
      "\n",
      "split, apply, combine\n",
      "\n",
      "\n",
      "[The Split-Apply-Combine Strategy for Data Analysis](http://www.jstatsoft.org/v40/i01/paper), by Hadley Wickham\n",
      "\n",
      "> Many data analysis problems involve the application of a split-apply-combine strategy, where you break up a big problem into manageable pieces, operate on each piece independently and then put all the pieces back together. \n",
      "\n",
      "Useful:\n",
      "\n",
      "- Group-wise ranking, normalization\n",
      "- Creating summaries\n",
      "\n",
      "Similar to:\n",
      "\n",
      "- Google's `MapReduce`\n",
      "    - Split -> Map\n",
      "    - Combine -> Reduce\n",
      "- SQL's `group by`\n",
      "- Excel `pivot tables`\n",
      "- R's plyr (the point of the paper)\n"
     ]
    },
    {
     "cell_type": "code",
     "collapsed": false,
     "input": [
      "import pandas as pd\n",
      "import numpy as np"
     ],
     "language": "python",
     "metadata": {},
     "outputs": [],
     "prompt_number": 1
    },
    {
     "cell_type": "markdown",
     "metadata": {},
     "source": [
      "##Simple Example"
     ]
    },
    {
     "cell_type": "code",
     "collapsed": false,
     "input": [
      "names = ['John', 'Matt', 'Sara', 'Jim', 'Ashley']\n",
      "ids = [ 23, 34, 83, 86, 12]\n",
      "balance = [10.2, 84.3, 72.9, 27.1, 223.1]\n",
      "department = ['A','A','B','B','B']\n",
      "\n",
      "users = pd.DataFrame({'id': ids, \n",
      "                      'name': names, \n",
      "                      'bal':balance, \n",
      "                      'dept': department})\n",
      "print users.head()"
     ],
     "language": "python",
     "metadata": {},
     "outputs": [
      {
       "output_type": "stream",
       "stream": "stdout",
       "text": [
        "     bal dept  id    name\n",
        "0   10.2    A  23    John\n",
        "1   84.3    A  34    Matt\n",
        "2   72.9    B  83    Sara\n",
        "3   27.1    B  86     Jim\n",
        "4  223.1    B  12  Ashley\n"
       ]
      }
     ],
     "prompt_number": 2
    },
    {
     "cell_type": "code",
     "collapsed": false,
     "input": [
      "users = users.reindex(columns=['name','id','dept','bal'])"
     ],
     "language": "python",
     "metadata": {},
     "outputs": [],
     "prompt_number": 3
    },
    {
     "cell_type": "code",
     "collapsed": false,
     "input": [
      "print users"
     ],
     "language": "python",
     "metadata": {},
     "outputs": [
      {
       "output_type": "stream",
       "stream": "stdout",
       "text": [
        "     name  id dept    bal\n",
        "0    John  23    A   10.2\n",
        "1    Matt  34    A   84.3\n",
        "2    Sara  83    B   72.9\n",
        "3     Jim  86    B   27.1\n",
        "4  Ashley  12    B  223.1\n"
       ]
      }
     ],
     "prompt_number": 4
    },
    {
     "cell_type": "markdown",
     "metadata": {},
     "source": [
      "###What is the total balance per `dept`?"
     ]
    },
    {
     "cell_type": "code",
     "collapsed": false,
     "input": [
      "dept = users[['dept','bal']]\n",
      "print dept"
     ],
     "language": "python",
     "metadata": {},
     "outputs": [
      {
       "output_type": "stream",
       "stream": "stdout",
       "text": [
        "  dept    bal\n",
        "0    A   10.2\n",
        "1    A   84.3\n",
        "2    B   72.9\n",
        "3    B   27.1\n",
        "4    B  223.1\n"
       ]
      }
     ],
     "prompt_number": 5
    },
    {
     "cell_type": "markdown",
     "metadata": {},
     "source": [
      "We want to group by `dept` and `sum` the balance."
     ]
    },
    {
     "cell_type": "code",
     "collapsed": false,
     "input": [
      "grps = dept.groupby('dept')\n",
      "print len(grps)"
     ],
     "language": "python",
     "metadata": {},
     "outputs": [
      {
       "output_type": "stream",
       "stream": "stdout",
       "text": [
        "2\n"
       ]
      }
     ],
     "prompt_number": 6
    },
    {
     "cell_type": "markdown",
     "metadata": {},
     "source": [
      "What do the groups look like?"
     ]
    },
    {
     "cell_type": "code",
     "collapsed": false,
     "input": [
      "print type(grps)\n",
      "print type(grps.groups)\n",
      "print grps.groups"
     ],
     "language": "python",
     "metadata": {},
     "outputs": [
      {
       "output_type": "stream",
       "stream": "stdout",
       "text": [
        "<class 'pandas.core.groupby.DataFrameGroupBy'>\n",
        "<type 'dict'>\n",
        "{'A': [0L, 1L], 'B': [2L, 3L, 4L]}\n"
       ]
      }
     ],
     "prompt_number": 7
    },
    {
     "cell_type": "markdown",
     "metadata": {},
     "source": [
      "Dictionary where \n",
      "\n",
      "- `keys` are the groubpy column values \n",
      "- values are their coresponding `DataFrame` items."
     ]
    },
    {
     "cell_type": "code",
     "collapsed": false,
     "input": [
      "for key, value in grps:\n",
      "    print key, type(value)\n",
      "    print value"
     ],
     "language": "python",
     "metadata": {},
     "outputs": [
      {
       "output_type": "stream",
       "stream": "stdout",
       "text": [
        "A <class 'pandas.core.frame.DataFrame'>\n",
        "  dept   bal\n",
        "0    A  10.2\n",
        "1    A  84.3\n",
        "B <class 'pandas.core.frame.DataFrame'>\n",
        "  dept    bal\n",
        "2    B   72.9\n",
        "3    B   27.1\n",
        "4    B  223.1\n"
       ]
      }
     ],
     "prompt_number": 100
    },
    {
     "cell_type": "markdown",
     "metadata": {},
     "source": [
      "Apply an aggregate function to the groups, for example `sum`."
     ]
    },
    {
     "cell_type": "code",
     "collapsed": false,
     "input": [
      "print grps.sum()"
     ],
     "language": "python",
     "metadata": {},
     "outputs": [
      {
       "output_type": "stream",
       "stream": "stdout",
       "text": [
        "        bal\n",
        "dept       \n",
        "A      94.5\n",
        "B     323.1\n"
       ]
      }
     ],
     "prompt_number": 120
    },
    {
     "cell_type": "code",
     "collapsed": false,
     "input": [
      "print dept.groupby('dept').sum()"
     ],
     "language": "python",
     "metadata": {},
     "outputs": [
      {
       "output_type": "stream",
       "stream": "stdout",
       "text": [
        "        bal\n",
        "dept       \n",
        "A      94.5\n",
        "B     323.1\n"
       ]
      }
     ],
     "prompt_number": 102
    },
    {
     "cell_type": "markdown",
     "metadata": {},
     "source": [
      "###What is the total balance, mean, and size of each `dept`?\n",
      "\n",
      "- use the `agg` function.\n",
      "- Optimized groupby methods:\n",
      "    - sum\n",
      "    - count\n",
      "    - mean\n",
      "    - median\n",
      "    - min, max\n",
      "    - std, var\n",
      "- You can also pass functions (e.g. `np.size`)"
     ]
    },
    {
     "cell_type": "code",
     "collapsed": false,
     "input": [
      "desc = grps.agg(['sum','count','mean','median','min','max','std','var', np.size])\n",
      "print desc"
     ],
     "language": "python",
     "metadata": {},
     "outputs": [
      {
       "output_type": "stream",
       "stream": "stdout",
       "text": [
        "        bal                                                                 \n",
        "        sum  count    mean  median   min    max         std        var  size\n",
        "dept                                                                        \n",
        "A      94.5      2   47.25   47.25  10.2   84.3   52.396612   2745.405     2\n",
        "B     323.1      3  107.70   72.90  27.1  223.1  102.529410  10512.280     3\n"
       ]
      }
     ],
     "prompt_number": 115
    },
    {
     "cell_type": "code",
     "collapsed": false,
     "input": [
      "print desc.columns"
     ],
     "language": "python",
     "metadata": {},
     "outputs": [
      {
       "output_type": "stream",
       "stream": "stdout",
       "text": [
        "MultiIndex\n",
        "[(u'bal', u'sum'), (u'bal', u'count'), (u'bal', u'mean'), (u'bal', u'median'), (u'bal', u'min'), (u'bal', u'max'), (u'bal', u'std'), (u'bal', u'var'), (u'bal', u'size')]\n"
       ]
      }
     ],
     "prompt_number": 118
    },
    {
     "cell_type": "markdown",
     "metadata": {},
     "source": [
      "Single level index?"
     ]
    },
    {
     "cell_type": "code",
     "collapsed": false,
     "input": [
      "print dept['bal'].groupby(dept['dept']).agg(['sum','count'])"
     ],
     "language": "python",
     "metadata": {},
     "outputs": [
      {
       "output_type": "stream",
       "stream": "stdout",
       "text": [
        "        sum  count\n",
        "dept              \n",
        "A      94.5      2\n",
        "B     323.1      3\n"
       ]
      }
     ],
     "prompt_number": 124
    },
    {
     "cell_type": "markdown",
     "metadata": {},
     "source": [
      "Syntactic sugar"
     ]
    },
    {
     "cell_type": "code",
     "collapsed": false,
     "input": [
      "print grps['bal'].agg(['sum','count','mean','median','min','max','std','var', np.size])"
     ],
     "language": "python",
     "metadata": {},
     "outputs": [
      {
       "output_type": "stream",
       "stream": "stdout",
       "text": [
        "        sum  count    mean  median   min    max         std        var  size\n",
        "dept                                                                        \n",
        "A      94.5      2   47.25   47.25  10.2   84.3   52.396612   2745.405     2\n",
        "B     323.1      3  107.70   72.90  27.1  223.1  102.529410  10512.280     3\n"
       ]
      }
     ],
     "prompt_number": 125
    },
    {
     "cell_type": "markdown",
     "metadata": {},
     "source": [
      "##US Names"
     ]
    },
    {
     "cell_type": "code",
     "collapsed": false,
     "input": [
      "import glob, os\n",
      "\n",
      "def get_names_data():\n",
      "    frame_array = []\n",
      "    files = glob.glob(os.path.join('data','names','*.txt'))\n",
      "    for file in files:\n",
      "        start_index = file.find('yob')+3\n",
      "        year = int(file[start_index:start_index+4])\n",
      "        tmp = pd.read_csv(file, names=['name','gender','births'])\n",
      "        tmp['year'] = year\n",
      "        frame_array.append(tmp)\n",
      "    \n",
      "    names = pd.concat(frame_array, ignore_index=True)\n",
      "    return names"
     ],
     "language": "python",
     "metadata": {},
     "outputs": [],
     "prompt_number": 127
    },
    {
     "cell_type": "code",
     "collapsed": false,
     "input": [
      "names = get_names_data()\n",
      "print names.head()"
     ],
     "language": "python",
     "metadata": {},
     "outputs": [
      {
       "output_type": "stream",
       "stream": "stdout",
       "text": [
        "        name gender  births  year\n",
        "0       Mary      F    7065  1880\n",
        "1       Anna      F    2604  1880\n",
        "2       Emma      F    2003  1880\n",
        "3  Elizabeth      F    1939  1880\n",
        "4     Minnie      F    1746  1880\n"
       ]
      }
     ],
     "prompt_number": 128
    },
    {
     "cell_type": "markdown",
     "metadata": {},
     "source": [
      "###What are the 10 most popular names since 1880?"
     ]
    },
    {
     "cell_type": "markdown",
     "metadata": {},
     "source": [
      "We want to groupby `name` and `sum` the births, ignoring year and gender (for now).\n",
      "\n",
      "How many unique names are in this data set?"
     ]
    },
    {
     "cell_type": "code",
     "collapsed": false,
     "input": [
      "print len(names.name.unique())"
     ],
     "language": "python",
     "metadata": {},
     "outputs": [
      {
       "output_type": "stream",
       "stream": "stdout",
       "text": [
        "89925\n"
       ]
      }
     ],
     "prompt_number": 129
    },
    {
     "cell_type": "code",
     "collapsed": false,
     "input": [
      "tmp = names[['name','births']]\n",
      "print tmp.head()"
     ],
     "language": "python",
     "metadata": {},
     "outputs": [
      {
       "output_type": "stream",
       "stream": "stdout",
       "text": [
        "        name  births\n",
        "0       Mary    7065\n",
        "1       Anna    2604\n",
        "2       Emma    2003\n",
        "3  Elizabeth    1939\n",
        "4     Minnie    1746\n"
       ]
      }
     ],
     "prompt_number": 130
    },
    {
     "cell_type": "code",
     "collapsed": false,
     "input": [
      "grps = tmp.groupby('name')\n",
      "print len(grps)"
     ],
     "language": "python",
     "metadata": {},
     "outputs": [
      {
       "output_type": "stream",
       "stream": "stdout",
       "text": [
        "89925\n"
       ]
      }
     ],
     "prompt_number": 131
    },
    {
     "cell_type": "code",
     "collapsed": false,
     "input": [
      "print grps.sum().sort('births', ascending=False).head(10)"
     ],
     "language": "python",
     "metadata": {},
     "outputs": [
      {
       "output_type": "stream",
       "stream": "stdout",
       "text": [
        "          births\n",
        "name            \n",
        "James    5086540\n",
        "John     5073452\n",
        "Robert   4795444\n",
        "Michael  4282648\n",
        "Mary     4121992\n",
        "William  4020092\n",
        "David    3552443\n",
        "Richard  2555644\n",
        "Joseph   2543111\n",
        "Charles  2354882\n"
       ]
      }
     ],
     "prompt_number": 132
    },
    {
     "cell_type": "markdown",
     "metadata": {},
     "source": [
      "### How many people were born each year?"
     ]
    },
    {
     "cell_type": "code",
     "collapsed": false,
     "input": [
      "births = names.groupby('year').sum()\n",
      "births.plot()\n",
      "plt.show()"
     ],
     "language": "python",
     "metadata": {},
     "outputs": [
      {
       "metadata": {},
       "output_type": "display_data",
       "png": "[encoded data removed]",
       "text": [
        "<matplotlib.figure.Figure at 0x11514f950>"
       ]
      }
     ],
     "prompt_number": 133
    },
    {
     "cell_type": "markdown",
     "metadata": {},
     "source": [
      "## A special groupby function: `pivot_table`.\n",
      "\n",
      "The \"wide\" aggregate format."
     ]
    },
    {
     "cell_type": "code",
     "collapsed": false,
     "input": [
      "print names.head()"
     ],
     "language": "python",
     "metadata": {},
     "outputs": [
      {
       "output_type": "stream",
       "stream": "stdout",
       "text": [
        "        name gender  births  year\n",
        "0       Mary      F    7065  1880\n",
        "1       Anna      F    2604  1880\n",
        "2       Emma      F    2003  1880\n",
        "3  Elizabeth      F    1939  1880\n",
        "4     Minnie      F    1746  1880\n"
       ]
      }
     ],
     "prompt_number": 134
    },
    {
     "cell_type": "markdown",
     "metadata": {},
     "source": [
      "We want: \n",
      "\n",
      "- the row index to be year, \n",
      "- gender as the column headings, \n",
      "- and the value of the table to be the sum of births.\n",
      "\n",
      "We need the sum (or another aggregate mesure) because we are dropping the name group"
     ]
    },
    {
     "cell_type": "code",
     "collapsed": false,
     "input": [
      "births_by_gender = pd.pivot_table(names, values='births', \n",
      "                                  rows='year', \n",
      "                                  cols='gender', aggfunc=sum)\n",
      "print births_by_gender.head()"
     ],
     "language": "python",
     "metadata": {},
     "outputs": [
      {
       "output_type": "stream",
       "stream": "stdout",
       "text": [
        "gender       F       M\n",
        "year                  \n",
        "1880     90994  110492\n",
        "1881     91955  100747\n",
        "1882    107851  113687\n",
        "1883    112322  104631\n",
        "1884    129022  114445\n"
       ]
      }
     ],
     "prompt_number": 135
    },
    {
     "cell_type": "code",
     "collapsed": false,
     "input": [
      "births_by_gender.plot()\n",
      "plt.show()"
     ],
     "language": "python",
     "metadata": {},
     "outputs": [
      {
       "metadata": {},
       "output_type": "display_data",
       "png": "[encoded data removed]",
       "text": [
        "<matplotlib.figure.Figure at 0x10c1248d0>"
       ]
      }
     ],
     "prompt_number": 136
    },
    {
     "cell_type": "code",
     "collapsed": false,
     "input": [],
     "language": "python",
     "metadata": {},
     "outputs": []
    }
   ],
   "metadata": {}
  }
 ]
}